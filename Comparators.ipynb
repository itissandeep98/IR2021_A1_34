{
 "cells": [
  {
   "cell_type": "code",
   "execution_count": 6,
   "metadata": {},
   "outputs": [
    {
     "name": "stderr",
     "output_type": "stream",
     "text": [
      "[nltk_data] Downloading package punkt to C:\\Users\\Sajeel\n",
      "[nltk_data]     Khan\\AppData\\Roaming\\nltk_data...\n",
      "[nltk_data]   Package punkt is already up-to-date!\n",
      "[nltk_data] Downloading package stopwords to C:\\Users\\Sajeel\n",
      "[nltk_data]     Khan\\AppData\\Roaming\\nltk_data...\n",
      "[nltk_data]   Package stopwords is already up-to-date!\n"
     ]
    },
    {
     "data": {
      "text/plain": [
       "True"
      ]
     },
     "execution_count": 6,
     "metadata": {},
     "output_type": "execute_result"
    }
   ],
   "source": [
    "from nltk.tokenize import word_tokenize\n",
    "import nltk\n",
    "from nltk.corpus import stopwords\n",
    "import json\n",
    "import os\n",
    "from tqdm.notebook import tqdm,tnrange\n",
    "import string\n",
    "import numpy as np\n",
    "\n",
    "nltk.download(\"punkt\")\n",
    "nltk.download(\"stopwords\")"
   ]
  },
  {
   "cell_type": "code",
   "execution_count": 7,
   "metadata": {},
   "outputs": [],
   "source": [
    "\n",
    "class InvertedIndex():\n",
    "\tdef __init__(self):\n",
    "\t\tself.db={}\n",
    "\n",
    "\tdef __str__(self):\n",
    "\t\treturn \"Keys:\"+str(len(list(self.db.keys())))\n",
    "\t\n",
    "\tdef stripSpecialChar(self,text):\n",
    "\t\treturn ''.join(ch for ch in text if ch.isalnum() and not ch.isdigit() and ch not in string.punctuation)\n",
    "\n",
    "\tdef preProcess(self,text):\n",
    "\t\ttext = text.lower()\n",
    "\t\ttext_tokens = word_tokenize(text)\n",
    "\t\tstopWords = set(stopwords.words('english'))\n",
    "\t\tvalidTokens = list(set(text_tokens) - set(stopWords))\n",
    "\t\tvalidTokens = [self.stripSpecialChar(x) for x in validTokens]\n",
    "\t\tvalidTokens = [x for x in validTokens if len(x) > 1]\n",
    "\t\treturn validTokens\n",
    "\n",
    "\tdef indexFile(self,file,fileId):\n",
    "\t\ttokens = self.preProcess(file)\n",
    "\t\tfor i in tokens:\n",
    "\t\t\tif i in self.db:\n",
    "\t\t\t\tself.db[i].append(fileId)\n",
    "\t\t\telse:\n",
    "\t\t\t\tself.db[i] = [fileId]\n",
    "\n",
    "\tdef save(self):\n",
    "\t\tjson.dump(self.db, open(\"output.json\", \"w\"))\n"
   ]
  },
  {
   "cell_type": "code",
   "execution_count": 8,
   "metadata": {},
   "outputs": [
    {
     "data": {
      "application/vnd.jupyter.widget-view+json": {
       "model_id": "7a642b92e61945eaaf206c92c2709ba9",
       "version_major": 2,
       "version_minor": 0
      },
      "text/plain": [
       "HBox(children=(FloatProgress(value=0.0, max=467.0), HTML(value='')))"
      ]
     },
     "metadata": {},
     "output_type": "display_data"
    },
    {
     "name": "stdout",
     "output_type": "stream",
     "text": [
      "\n"
     ]
    }
   ],
   "source": [
    "allFiles = os.walk(\"stories\")\n",
    "filePaths = []\n",
    "for i in allFiles:\n",
    "\tfor j in i[2]:\n",
    "\t\tfilePath = i[0] + \"/\" + j\n",
    "\t\tfilePaths.append(filePath)\n",
    "\n",
    "json.dump(filePaths, open(\"mapping.json\", \"w\"))\n",
    "\n",
    "index = InvertedIndex()\n",
    "\n",
    "for i,filePath in enumerate(tqdm(filePaths)):\n",
    "    try:\n",
    "        file = open(filePath, encoding=\"utf8\")\n",
    "        read = file.read().replace('\\n', ' ')    \n",
    "    except Exception as e:\n",
    "        file = open(filePath, encoding=\"Latin1\")\n",
    "        read = file.read().replace('\\n', ' ')\n",
    "    file.close()\n",
    "    index.indexFile(read, i)\n",
    "    index.save()"
   ]
  },
  {
   "cell_type": "code",
   "execution_count": 9,
   "metadata": {},
   "outputs": [],
   "source": [
    "class Query():\n",
    "    def __init__(self):\n",
    "        pass\n",
    "\n",
    "    def loadIndex(self,file):\n",
    "        self.db=json.load(open(file))\n",
    "\n",
    "    def OR(self,term1,term2):\n",
    "        return term1.add(term2)\n",
    "    \n",
    "    def AND(self,term1,term2):\n",
    "        return term1.intersect(term2)\n",
    "    \n",
    "    def ANDNOT(self,term1,term2):\n",
    "        # temp=Response(set(sum(list(self.db.copy().values()),[])))\n",
    "        temp=Response(np.arange(468))\n",
    "        temp1=temp.diff(term2)\n",
    "        return term1.intersect(temp1)\n",
    "    def ORNOT(self,term1,term2):\n",
    "        # temp=Response(set(sum(list(self.db.copy().values()),[])))\n",
    "        temp=Response(np.arange(468))\n",
    "        temp1=temp.diff(term2)\n",
    "        temp2 = term1.intersect(term2)\n",
    "        return temp1.add(temp2)\n"
   ]
  },
  {
   "cell_type": "code",
   "execution_count": 10,
   "metadata": {},
   "outputs": [],
   "source": [
    "class Response():\n",
    "    def __init__(self,data):\n",
    "        self.data=set(data)\n",
    "\n",
    "    def getMapping(self,file):\n",
    "        self.mapping=json.load(open(file))\n",
    "        for i in self.data:\n",
    "            print(self.mapping[i])\n",
    "    \n",
    "    def __str__(self):\n",
    "        return str(len(self.data))\n",
    "\n",
    "    def add(self,response):\n",
    "        return Response(set.union(self.data,response.data))\n",
    "        \n",
    "    def intersect(self,response):\n",
    "        return Response(set.intersection(self.data,response.data))\n",
    "\n",
    "    def diff(self,response):\n",
    "        return Response(set.difference(self.data,response.data))\n",
    "        "
   ]
  },
  {
   "cell_type": "code",
   "execution_count": 11,
   "metadata": {},
   "outputs": [],
   "source": [
    "query=Query()\n",
    "query.loadIndex(\"output.json\")"
   ]
  },
  {
   "cell_type": "code",
   "execution_count": 12,
   "metadata": {},
   "outputs": [
    {
     "data": {
      "application/vnd.jupyter.widget-view+json": {
       "model_id": "ff6671ef52be4a18badaa9a9a1b274a3",
       "version_major": 2,
       "version_minor": 0
      },
      "text/plain": [
       "HBox(children=(FloatProgress(value=0.0, max=1.0), HTML(value='')))"
      ]
     },
     "metadata": {},
     "output_type": "display_data"
    },
    {
     "name": "stdout",
     "output_type": "stream",
     "text": [
      "\n",
      "11\n"
     ]
    }
   ],
   "source": [
    "queries=[\"stink\",\"middle\"]\n",
    "output=Response(query.db[queries[0]])\n",
    "for i in tnrange(1,len(queries)):\n",
    "    curr=Response(query.db[queries[i]])\n",
    "    output=query.AND(curr,output)\n",
    "\n",
    "print(output)"
   ]
  },
  {
   "cell_type": "code",
   "execution_count": 13,
   "metadata": {},
   "outputs": [
    {
     "name": "stdout",
     "output_type": "stream",
     "text": [
      "stories/darkness.txt\n",
      "stories/friends.txt\n",
      "stories/long1-3.txt\n",
      "stories/valen\n",
      "stories/nihgel_8.9\n",
      "stories/elite.app\n",
      "stories/grav\n",
      "stories/gulliver.txt\n",
      "stories/forgotte\n",
      "stories/sick-kid.txt\n",
      "stories/hellmach.txt\n"
     ]
    },
    {
     "data": {
      "text/plain": [
       "{129, 145, 183, 193, 210, 214, 221, 270, 303, 378, 431}"
      ]
     },
     "execution_count": 13,
     "metadata": {},
     "output_type": "execute_result"
    }
   ],
   "source": [
    "output.getMapping(\"mapping.json\")\n",
    "output.data"
   ]
  },
  {
   "cell_type": "code",
   "execution_count": 14,
   "metadata": {},
   "outputs": [],
   "source": [
    "def no_comparisonsOR(term1, term2):\n",
    "    first = list(set(query.db[term1]))\n",
    "    first.sort()\n",
    "    second = list(set(query.db[term2]))\n",
    "    second.sort()\n",
    "    i=0\n",
    "    j=0\n",
    "    count=0\n",
    "    ans = []\n",
    "    while(i<len(first) and j<len(second)):\n",
    "        count+=1\n",
    "        if(first[i]<second[j]):\n",
    "            ans.append(first[i])\n",
    "            i+=1          \n",
    "        elif(first[i]>second[j]):\n",
    "            ans.append(second[j])\n",
    "            j+=1\n",
    "        else:\n",
    "            ans.append(first[i])\n",
    "            i+=1\n",
    "            j+=1\n",
    "    while(i<len(first)):\n",
    "        ans.append(first[i])\n",
    "        i+=1\n",
    "    while(j<len(second)):\n",
    "        ans.append(second[j])\n",
    "        j+=1\n",
    "    return count    "
   ]
  },
  {
   "cell_type": "code",
   "execution_count": 15,
   "metadata": {},
   "outputs": [
    {
     "name": "stdout",
     "output_type": "stream",
     "text": [
      "123\n"
     ]
    }
   ],
   "source": [
    "def no_comparisonsAND(term1, term2):\n",
    "    first = list(set(query.db[term1]))\n",
    "    first.sort()\n",
    "    second = list(set(query.db[term2]))\n",
    "    second.sort()\n",
    "    i=0\n",
    "    j=0\n",
    "    count=0\n",
    "    ans = []\n",
    "    while(i<len(first) and j<len(second)):\n",
    "        count+=1\n",
    "        if(first[i]<second[j]):\n",
    "            i+=1          \n",
    "        elif(first[i]>second[j]):\n",
    "            j+=1\n",
    "        else:\n",
    "            ans.append(first[i])\n",
    "            i+=1\n",
    "            j+=1\n",
    "    return count\n",
    "\n",
    "print(no_comparisonsAND(\"stink\",\"middle\"))"
   ]
  },
  {
   "cell_type": "code",
   "execution_count": 19,
   "metadata": {},
   "outputs": [
    {
     "ename": "AttributeError",
     "evalue": "'list' object has no attribute 'data'",
     "output_type": "error",
     "traceback": [
      "\u001b[1;31m---------------------------------------------------------------------------\u001b[0m",
      "\u001b[1;31mAttributeError\u001b[0m                            Traceback (most recent call last)",
      "\u001b[1;32m<ipython-input-19-63e8c8cabeb7>\u001b[0m in \u001b[0;36m<module>\u001b[1;34m\u001b[0m\n\u001b[0;32m     24\u001b[0m     \u001b[1;32mreturn\u001b[0m \u001b[0mcount\u001b[0m\u001b[1;33m\u001b[0m\u001b[1;33m\u001b[0m\u001b[0m\n\u001b[0;32m     25\u001b[0m \u001b[1;33m\u001b[0m\u001b[0m\n\u001b[1;32m---> 26\u001b[1;33m \u001b[0mprint\u001b[0m\u001b[1;33m(\u001b[0m\u001b[0mno_comparisonsANDNOT\u001b[0m\u001b[1;33m(\u001b[0m\u001b[1;34m\"telephone\"\u001b[0m\u001b[1;33m,\u001b[0m \u001b[1;34m\"paved\"\u001b[0m\u001b[1;33m)\u001b[0m\u001b[1;33m)\u001b[0m\u001b[1;33m\u001b[0m\u001b[1;33m\u001b[0m\u001b[0m\n\u001b[0m",
      "\u001b[1;32m<ipython-input-19-63e8c8cabeb7>\u001b[0m in \u001b[0;36mno_comparisonsANDNOT\u001b[1;34m(term1, term2)\u001b[0m\n\u001b[0;32m      3\u001b[0m     \u001b[0msecond\u001b[0m \u001b[1;33m=\u001b[0m \u001b[0mlist\u001b[0m\u001b[1;33m(\u001b[0m\u001b[0mset\u001b[0m\u001b[1;33m(\u001b[0m\u001b[0mquery\u001b[0m\u001b[1;33m.\u001b[0m\u001b[0mdb\u001b[0m\u001b[1;33m[\u001b[0m\u001b[0mterm2\u001b[0m\u001b[1;33m]\u001b[0m\u001b[1;33m)\u001b[0m\u001b[1;33m)\u001b[0m \u001b[1;31m#list of term2\u001b[0m\u001b[1;33m\u001b[0m\u001b[1;33m\u001b[0m\u001b[0m\n\u001b[0;32m      4\u001b[0m     \u001b[0msecond\u001b[0m\u001b[1;33m.\u001b[0m\u001b[0msort\u001b[0m\u001b[1;33m(\u001b[0m\u001b[1;33m)\u001b[0m\u001b[1;33m\u001b[0m\u001b[1;33m\u001b[0m\u001b[0m\n\u001b[1;32m----> 5\u001b[1;33m     \u001b[0msecond\u001b[0m\u001b[1;33m=\u001b[0m\u001b[0mtemp\u001b[0m\u001b[1;33m.\u001b[0m\u001b[0mdiff\u001b[0m\u001b[1;33m(\u001b[0m\u001b[0msecond\u001b[0m\u001b[1;33m)\u001b[0m \u001b[1;31m#generating Universal - (Not terms2)\u001b[0m\u001b[1;33m\u001b[0m\u001b[1;33m\u001b[0m\u001b[0m\n\u001b[0m\u001b[0;32m      6\u001b[0m     \u001b[0msecond\u001b[0m\u001b[1;33m.\u001b[0m\u001b[0msort\u001b[0m\u001b[1;33m(\u001b[0m\u001b[1;33m)\u001b[0m \u001b[1;31m#sorting, if needed\u001b[0m\u001b[1;33m\u001b[0m\u001b[1;33m\u001b[0m\u001b[0m\n\u001b[0;32m      7\u001b[0m     \u001b[0mfirst\u001b[0m \u001b[1;33m=\u001b[0m \u001b[0mlist\u001b[0m\u001b[1;33m(\u001b[0m\u001b[0mset\u001b[0m\u001b[1;33m(\u001b[0m\u001b[0mquery\u001b[0m\u001b[1;33m.\u001b[0m\u001b[0mdb\u001b[0m\u001b[1;33m[\u001b[0m\u001b[0mterm1\u001b[0m\u001b[1;33m]\u001b[0m\u001b[1;33m)\u001b[0m\u001b[1;33m)\u001b[0m \u001b[1;31m#list of term1\u001b[0m\u001b[1;33m\u001b[0m\u001b[1;33m\u001b[0m\u001b[0m\n",
      "\u001b[1;32m<ipython-input-10-dc1a90ab29c9>\u001b[0m in \u001b[0;36mdiff\u001b[1;34m(self, response)\u001b[0m\n\u001b[0;32m     18\u001b[0m \u001b[1;33m\u001b[0m\u001b[0m\n\u001b[0;32m     19\u001b[0m     \u001b[1;32mdef\u001b[0m \u001b[0mdiff\u001b[0m\u001b[1;33m(\u001b[0m\u001b[0mself\u001b[0m\u001b[1;33m,\u001b[0m\u001b[0mresponse\u001b[0m\u001b[1;33m)\u001b[0m\u001b[1;33m:\u001b[0m\u001b[1;33m\u001b[0m\u001b[1;33m\u001b[0m\u001b[0m\n\u001b[1;32m---> 20\u001b[1;33m         \u001b[1;32mreturn\u001b[0m \u001b[0mResponse\u001b[0m\u001b[1;33m(\u001b[0m\u001b[0mset\u001b[0m\u001b[1;33m.\u001b[0m\u001b[0mdifference\u001b[0m\u001b[1;33m(\u001b[0m\u001b[0mself\u001b[0m\u001b[1;33m.\u001b[0m\u001b[0mdata\u001b[0m\u001b[1;33m,\u001b[0m\u001b[0mresponse\u001b[0m\u001b[1;33m.\u001b[0m\u001b[0mdata\u001b[0m\u001b[1;33m)\u001b[0m\u001b[1;33m)\u001b[0m\u001b[1;33m\u001b[0m\u001b[1;33m\u001b[0m\u001b[0m\n\u001b[0m\u001b[0;32m     21\u001b[0m \u001b[1;33m\u001b[0m\u001b[0m\n",
      "\u001b[1;31mAttributeError\u001b[0m: 'list' object has no attribute 'data'"
     ]
    }
   ],
   "source": [
    "def no_comparisonsANDNOT(term1, term2):\n",
    "    temp=Response(np.arange(468)) \n",
    "    second = list(set(query.db[term2])) #list of term2\n",
    "    second.sort()\n",
    "    second=temp.diff(second) #generating Universal - (Not terms2)\n",
    "    second.sort() #sorting, if needed\n",
    "    first = list(set(query.db[term1])) #list of term1\n",
    "    first.sort()\n",
    "    #initiating general AND operator\n",
    "    i=0\n",
    "    j=0\n",
    "    count=0\n",
    "    ans = []\n",
    "    while(i<len(first) and j<len(second)):\n",
    "        count+=1\n",
    "        if(first[i]<second[j]):\n",
    "            i+=1          \n",
    "        elif(first[i]>second[j]):\n",
    "            j+=1\n",
    "        else:\n",
    "            ans.append(first[i])\n",
    "            i+=1\n",
    "            j+=1\n",
    "    return count\n",
    "\n",
    "print(no_comparisonsANDNOT(\"telephone\", \"paved\"))"
   ]
  },
  {
   "cell_type": "code",
   "execution_count": 17,
   "metadata": {},
   "outputs": [],
   "source": [
    "def no_comparisonsORNOT(term1, term2):\n",
    "    temp=Response(np.arange(468)) \n",
    "    second = list(set(query.db[term2])) #list of term2\n",
    "    second.sort()\n",
    "    second=temp.diff(second) #generating Universal - (Not terms2)\n",
    "    second.sort() #sorting, if needed\n",
    "    first = list(set(query.db[term1])) #list of term1\n",
    "    first.sort()\n",
    "    i=0\n",
    "    j=0\n",
    "    count=0\n",
    "    ans = []\n",
    "    while(i<len(first) and j<len(second)):\n",
    "        count+=1\n",
    "        if(first[i]<second[j]):\n",
    "            ans.append(first[i])\n",
    "            i+=1          \n",
    "        elif(first[i]>second[j]):\n",
    "            ans.append(second[j])\n",
    "            j+=1\n",
    "        else:\n",
    "            ans.append(first[i])\n",
    "            i+=1\n",
    "            j+=1\n",
    "    while(i<len(first)):\n",
    "        ans.append(first[i])\n",
    "        i+=1\n",
    "    while(j<len(second)):\n",
    "        ans.append(second[j])\n",
    "        j+=1\n",
    "    return count  \n",
    "    \n",
    "    "
   ]
  },
  {
   "cell_type": "code",
   "execution_count": 18,
   "metadata": {},
   "outputs": [
    {
     "ename": "AttributeError",
     "evalue": "'list' object has no attribute 'data'",
     "output_type": "error",
     "traceback": [
      "\u001b[1;31m---------------------------------------------------------------------------\u001b[0m",
      "\u001b[1;31mAttributeError\u001b[0m                            Traceback (most recent call last)",
      "\u001b[1;32m<ipython-input-18-a9618a56759e>\u001b[0m in \u001b[0;36m<module>\u001b[1;34m\u001b[0m\n\u001b[1;32m----> 1\u001b[1;33m \u001b[0mprint\u001b[0m\u001b[1;33m(\u001b[0m\u001b[0mno_comparisonsORNOT\u001b[0m\u001b[1;33m(\u001b[0m\u001b[1;34m\"telephone\"\u001b[0m\u001b[1;33m,\u001b[0m \u001b[1;34m\"paved\"\u001b[0m\u001b[1;33m)\u001b[0m\u001b[1;33m)\u001b[0m\u001b[1;33m\u001b[0m\u001b[1;33m\u001b[0m\u001b[0m\n\u001b[0m",
      "\u001b[1;32m<ipython-input-17-7e22439f6ccd>\u001b[0m in \u001b[0;36mno_comparisonsORNOT\u001b[1;34m(term1, term2)\u001b[0m\n\u001b[0;32m      3\u001b[0m     \u001b[0msecond\u001b[0m \u001b[1;33m=\u001b[0m \u001b[0mlist\u001b[0m\u001b[1;33m(\u001b[0m\u001b[0mset\u001b[0m\u001b[1;33m(\u001b[0m\u001b[0mquery\u001b[0m\u001b[1;33m.\u001b[0m\u001b[0mdb\u001b[0m\u001b[1;33m[\u001b[0m\u001b[0mterm2\u001b[0m\u001b[1;33m]\u001b[0m\u001b[1;33m)\u001b[0m\u001b[1;33m)\u001b[0m \u001b[1;31m#list of term2\u001b[0m\u001b[1;33m\u001b[0m\u001b[1;33m\u001b[0m\u001b[0m\n\u001b[0;32m      4\u001b[0m     \u001b[0msecond\u001b[0m\u001b[1;33m.\u001b[0m\u001b[0msort\u001b[0m\u001b[1;33m(\u001b[0m\u001b[1;33m)\u001b[0m\u001b[1;33m\u001b[0m\u001b[1;33m\u001b[0m\u001b[0m\n\u001b[1;32m----> 5\u001b[1;33m     \u001b[0msecond\u001b[0m\u001b[1;33m=\u001b[0m\u001b[0mtemp\u001b[0m\u001b[1;33m.\u001b[0m\u001b[0mdiff\u001b[0m\u001b[1;33m(\u001b[0m\u001b[0msecond\u001b[0m\u001b[1;33m)\u001b[0m \u001b[1;31m#generating Universal - (Not terms2)\u001b[0m\u001b[1;33m\u001b[0m\u001b[1;33m\u001b[0m\u001b[0m\n\u001b[0m\u001b[0;32m      6\u001b[0m     \u001b[0msecond\u001b[0m\u001b[1;33m.\u001b[0m\u001b[0msort\u001b[0m\u001b[1;33m(\u001b[0m\u001b[1;33m)\u001b[0m \u001b[1;31m#sorting, if needed\u001b[0m\u001b[1;33m\u001b[0m\u001b[1;33m\u001b[0m\u001b[0m\n\u001b[0;32m      7\u001b[0m     \u001b[0mfirst\u001b[0m \u001b[1;33m=\u001b[0m \u001b[0mlist\u001b[0m\u001b[1;33m(\u001b[0m\u001b[0mset\u001b[0m\u001b[1;33m(\u001b[0m\u001b[0mquery\u001b[0m\u001b[1;33m.\u001b[0m\u001b[0mdb\u001b[0m\u001b[1;33m[\u001b[0m\u001b[0mterm1\u001b[0m\u001b[1;33m]\u001b[0m\u001b[1;33m)\u001b[0m\u001b[1;33m)\u001b[0m \u001b[1;31m#list of term1\u001b[0m\u001b[1;33m\u001b[0m\u001b[1;33m\u001b[0m\u001b[0m\n",
      "\u001b[1;32m<ipython-input-10-dc1a90ab29c9>\u001b[0m in \u001b[0;36mdiff\u001b[1;34m(self, response)\u001b[0m\n\u001b[0;32m     18\u001b[0m \u001b[1;33m\u001b[0m\u001b[0m\n\u001b[0;32m     19\u001b[0m     \u001b[1;32mdef\u001b[0m \u001b[0mdiff\u001b[0m\u001b[1;33m(\u001b[0m\u001b[0mself\u001b[0m\u001b[1;33m,\u001b[0m\u001b[0mresponse\u001b[0m\u001b[1;33m)\u001b[0m\u001b[1;33m:\u001b[0m\u001b[1;33m\u001b[0m\u001b[1;33m\u001b[0m\u001b[0m\n\u001b[1;32m---> 20\u001b[1;33m         \u001b[1;32mreturn\u001b[0m \u001b[0mResponse\u001b[0m\u001b[1;33m(\u001b[0m\u001b[0mset\u001b[0m\u001b[1;33m.\u001b[0m\u001b[0mdifference\u001b[0m\u001b[1;33m(\u001b[0m\u001b[0mself\u001b[0m\u001b[1;33m.\u001b[0m\u001b[0mdata\u001b[0m\u001b[1;33m,\u001b[0m\u001b[0mresponse\u001b[0m\u001b[1;33m.\u001b[0m\u001b[0mdata\u001b[0m\u001b[1;33m)\u001b[0m\u001b[1;33m)\u001b[0m\u001b[1;33m\u001b[0m\u001b[1;33m\u001b[0m\u001b[0m\n\u001b[0m\u001b[0;32m     21\u001b[0m \u001b[1;33m\u001b[0m\u001b[0m\n",
      "\u001b[1;31mAttributeError\u001b[0m: 'list' object has no attribute 'data'"
     ]
    }
   ],
   "source": [
    "print(no_comparisonsORNOT(\"telephone\", \"paved\"))"
   ]
  }
 ],
 "metadata": {
  "kernelspec": {
   "display_name": "Python 3",
   "language": "python",
   "name": "python3"
  },
  "language_info": {
   "codemirror_mode": {
    "name": "ipython",
    "version": 3
   },
   "file_extension": ".py",
   "mimetype": "text/x-python",
   "name": "python",
   "nbconvert_exporter": "python",
   "pygments_lexer": "ipython3",
   "version": "3.7.6"
  }
 },
 "nbformat": 4,
 "nbformat_minor": 4
}
